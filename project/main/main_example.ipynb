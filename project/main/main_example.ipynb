{
 "cells": [
  {
   "cell_type": "code",
   "execution_count": 1,
   "metadata": {},
   "outputs": [
    {
     "name": "stderr",
     "output_type": "stream",
     "text": [
      "/Users/asgatakmaev/miniconda3/envs/recsys/lib/python3.11/site-packages/tqdm/auto.py:21: TqdmWarning: IProgress not found. Please update jupyter and ipywidgets. See https://ipywidgets.readthedocs.io/en/stable/user_install.html\n",
      "  from .autonotebook import tqdm as notebook_tqdm\n"
     ]
    },
    {
     "data": {
      "text/html": [
       "<div>\n",
       "<style scoped>\n",
       "    .dataframe tbody tr th:only-of-type {\n",
       "        vertical-align: middle;\n",
       "    }\n",
       "\n",
       "    .dataframe tbody tr th {\n",
       "        vertical-align: top;\n",
       "    }\n",
       "\n",
       "    .dataframe thead th {\n",
       "        text-align: right;\n",
       "    }\n",
       "</style>\n",
       "<table border=\"1\" class=\"dataframe\">\n",
       "  <thead>\n",
       "    <tr style=\"text-align: right;\">\n",
       "      <th></th>\n",
       "      <th>category_id</th>\n",
       "      <th>published_date</th>\n",
       "      <th>price</th>\n",
       "      <th>update_stat_date</th>\n",
       "      <th>refreshed_date</th>\n",
       "      <th>view_count</th>\n",
       "      <th>is_sticky</th>\n",
       "      <th>item_origin</th>\n",
       "      <th>extended_guarantee</th>\n",
       "      <th>nsb</th>\n",
       "      <th>...</th>\n",
       "      <th>steam_cs2_ban_type</th>\n",
       "      <th>steam_rust_kill_player</th>\n",
       "      <th>steam_rust_deaths</th>\n",
       "      <th>steam_total_gifts_rub</th>\n",
       "      <th>steam_total_refunds_rub</th>\n",
       "      <th>steam_total_ingame_rub</th>\n",
       "      <th>steam_total_games_rub</th>\n",
       "      <th>steam_total_purchased_rub</th>\n",
       "      <th>steam_dota2_last_match_date</th>\n",
       "      <th>sold_price</th>\n",
       "    </tr>\n",
       "  </thead>\n",
       "  <tbody>\n",
       "    <tr>\n",
       "      <th>0</th>\n",
       "      <td>1</td>\n",
       "      <td>1695058353</td>\n",
       "      <td>360</td>\n",
       "      <td>1695227440</td>\n",
       "      <td>1695058353</td>\n",
       "      <td>9</td>\n",
       "      <td>0</td>\n",
       "      <td>fishing</td>\n",
       "      <td>-1</td>\n",
       "      <td>1</td>\n",
       "      <td>...</td>\n",
       "      <td>0</td>\n",
       "      <td>0</td>\n",
       "      <td>0</td>\n",
       "      <td>0</td>\n",
       "      <td>0</td>\n",
       "      <td>0</td>\n",
       "      <td>0</td>\n",
       "      <td>0</td>\n",
       "      <td>0</td>\n",
       "      <td>360</td>\n",
       "    </tr>\n",
       "    <tr>\n",
       "      <th>1</th>\n",
       "      <td>1</td>\n",
       "      <td>1689775707</td>\n",
       "      <td>115</td>\n",
       "      <td>0</td>\n",
       "      <td>1689775707</td>\n",
       "      <td>8</td>\n",
       "      <td>0</td>\n",
       "      <td>brute</td>\n",
       "      <td>0</td>\n",
       "      <td>1</td>\n",
       "      <td>...</td>\n",
       "      <td>0</td>\n",
       "      <td>0</td>\n",
       "      <td>0</td>\n",
       "      <td>0</td>\n",
       "      <td>0</td>\n",
       "      <td>0</td>\n",
       "      <td>0</td>\n",
       "      <td>0</td>\n",
       "      <td>0</td>\n",
       "      <td>115</td>\n",
       "    </tr>\n",
       "    <tr>\n",
       "      <th>2</th>\n",
       "      <td>1</td>\n",
       "      <td>1694338912</td>\n",
       "      <td>145</td>\n",
       "      <td>0</td>\n",
       "      <td>1695842027</td>\n",
       "      <td>71</td>\n",
       "      <td>0</td>\n",
       "      <td>autoreg</td>\n",
       "      <td>1</td>\n",
       "      <td>1</td>\n",
       "      <td>...</td>\n",
       "      <td>0</td>\n",
       "      <td>0</td>\n",
       "      <td>0</td>\n",
       "      <td>0</td>\n",
       "      <td>0</td>\n",
       "      <td>0</td>\n",
       "      <td>0</td>\n",
       "      <td>0</td>\n",
       "      <td>0</td>\n",
       "      <td>145</td>\n",
       "    </tr>\n",
       "    <tr>\n",
       "      <th>3</th>\n",
       "      <td>1</td>\n",
       "      <td>1694791149</td>\n",
       "      <td>649</td>\n",
       "      <td>0</td>\n",
       "      <td>1694791149</td>\n",
       "      <td>59</td>\n",
       "      <td>0</td>\n",
       "      <td>resale</td>\n",
       "      <td>0</td>\n",
       "      <td>0</td>\n",
       "      <td>...</td>\n",
       "      <td>0</td>\n",
       "      <td>0</td>\n",
       "      <td>0</td>\n",
       "      <td>0</td>\n",
       "      <td>0</td>\n",
       "      <td>0</td>\n",
       "      <td>0</td>\n",
       "      <td>0</td>\n",
       "      <td>0</td>\n",
       "      <td>649</td>\n",
       "    </tr>\n",
       "    <tr>\n",
       "      <th>4</th>\n",
       "      <td>1</td>\n",
       "      <td>1695738971</td>\n",
       "      <td>40</td>\n",
       "      <td>1695847124</td>\n",
       "      <td>1695738971</td>\n",
       "      <td>10</td>\n",
       "      <td>0</td>\n",
       "      <td>brute</td>\n",
       "      <td>0</td>\n",
       "      <td>1</td>\n",
       "      <td>...</td>\n",
       "      <td>0</td>\n",
       "      <td>0</td>\n",
       "      <td>0</td>\n",
       "      <td>0</td>\n",
       "      <td>0</td>\n",
       "      <td>0</td>\n",
       "      <td>0</td>\n",
       "      <td>0</td>\n",
       "      <td>0</td>\n",
       "      <td>40</td>\n",
       "    </tr>\n",
       "  </tbody>\n",
       "</table>\n",
       "<p>5 rows × 73 columns</p>\n",
       "</div>"
      ],
      "text/plain": [
       "   category_id  published_date  price  update_stat_date  refreshed_date  \\\n",
       "0            1      1695058353    360        1695227440      1695058353   \n",
       "1            1      1689775707    115                 0      1689775707   \n",
       "2            1      1694338912    145                 0      1695842027   \n",
       "3            1      1694791149    649                 0      1694791149   \n",
       "4            1      1695738971     40        1695847124      1695738971   \n",
       "\n",
       "   view_count  is_sticky item_origin  extended_guarantee  nsb  ...  \\\n",
       "0           9          0     fishing                  -1    1  ...   \n",
       "1           8          0       brute                   0    1  ...   \n",
       "2          71          0     autoreg                   1    1  ...   \n",
       "3          59          0      resale                   0    0  ...   \n",
       "4          10          0       brute                   0    1  ...   \n",
       "\n",
       "  steam_cs2_ban_type steam_rust_kill_player steam_rust_deaths  \\\n",
       "0                  0                      0                 0   \n",
       "1                  0                      0                 0   \n",
       "2                  0                      0                 0   \n",
       "3                  0                      0                 0   \n",
       "4                  0                      0                 0   \n",
       "\n",
       "   steam_total_gifts_rub steam_total_refunds_rub  steam_total_ingame_rub  \\\n",
       "0                      0                       0                       0   \n",
       "1                      0                       0                       0   \n",
       "2                      0                       0                       0   \n",
       "3                      0                       0                       0   \n",
       "4                      0                       0                       0   \n",
       "\n",
       "   steam_total_games_rub steam_total_purchased_rub  \\\n",
       "0                      0                         0   \n",
       "1                      0                         0   \n",
       "2                      0                         0   \n",
       "3                      0                         0   \n",
       "4                      0                         0   \n",
       "\n",
       "   steam_dota2_last_match_date sold_price  \n",
       "0                            0        360  \n",
       "1                            0        115  \n",
       "2                            0        145  \n",
       "3                            0        649  \n",
       "4                            0         40  \n",
       "\n",
       "[5 rows x 73 columns]"
      ]
     },
     "execution_count": 1,
     "metadata": {},
     "output_type": "execute_result"
    }
   ],
   "source": [
    "import pandas as pd\n",
    "import numpy as np\n",
    "from tqdm.auto import tqdm\n",
    "import warnings\n",
    "from sklearn.model_selection import train_test_split\n",
    "\n",
    "warnings.filterwarnings('ignore')\n",
    "\n",
    "# Use True if you dont have your own data\n",
    "USE_DEMO_DATA = True\n",
    "\n",
    "# Specify if you have your own data\n",
    "TRAIN_DATA_PATH = 'YOUR_TRAIN_DATA_PATH'\n",
    "TEST_DATA_PATH = 'YOUR_TEST_DATA_PATH'\n",
    "\n",
    "if USE_DEMO_DATA:\n",
    "    # making demo data for 2 categories\n",
    "    df = pd.read_json('../data/dataset.json')\n",
    "    cat_2_df = df.copy()\n",
    "    cat_2_df['category_id'] = 2\n",
    "    train_1, test_1 = train_test_split(df, shuffle=True, random_state=42, test_size=0.078)\n",
    "    train_2, test_2 = train_test_split(cat_2_df, shuffle=True, random_state=42, test_size=0.078)\n",
    "    \n",
    "    train_df = pd.concat([train_1, train_2]).reset_index(drop=True)\n",
    "    test_df = pd.concat([test_1, test_2]).reset_index(drop=True)\n",
    "else:\n",
    "    # reading your data\n",
    "    train_df = pd.read_json(TRAIN_DATA_PATH)\n",
    "    test_df = pd.read_json(TEST_DATA_PATH)\n",
    "    \n",
    "train_df.head()"
   ]
  },
  {
   "cell_type": "code",
   "execution_count": 2,
   "metadata": {},
   "outputs": [
    {
     "name": "stdout",
     "output_type": "stream",
     "text": [
      "[1 2]\n"
     ]
    }
   ],
   "source": [
    "unique_categories = train_df['category_id'].unique()\n",
    "\n",
    "print(unique_categories)"
   ]
  },
  {
   "cell_type": "markdown",
   "metadata": {},
   "source": [
    "#### Splitting data into separate catogories by category_id"
   ]
  },
  {
   "cell_type": "code",
   "execution_count": 3,
   "metadata": {},
   "outputs": [
    {
     "name": "stderr",
     "output_type": "stream",
     "text": [
      "  0%|          | 0/2 [00:00<?, ?it/s]"
     ]
    },
    {
     "name": "stderr",
     "output_type": "stream",
     "text": [
      "100%|██████████| 2/2 [00:00<00:00, 11.47it/s]\n"
     ]
    },
    {
     "data": {
      "text/plain": [
       "dict_keys([1, 2])"
      ]
     },
     "execution_count": 3,
     "metadata": {},
     "output_type": "execute_result"
    }
   ],
   "source": [
    "categories_dfs = {}\n",
    "\n",
    "for category in tqdm(unique_categories):\n",
    "    category_df = train_df[train_df['category_id'] == category].copy()\n",
    "    categories_dfs[category] = category_df\n",
    "    \n",
    "categories_dfs.keys()"
   ]
  },
  {
   "cell_type": "markdown",
   "metadata": {},
   "source": [
    "## Training models for each category"
   ]
  },
  {
   "cell_type": "code",
   "execution_count": 4,
   "metadata": {},
   "outputs": [
    {
     "name": "stdout",
     "output_type": "stream",
     "text": [
      "Training model for category 1\n",
      "\n",
      "Initialized SingleCategoryModel for category 1.\n",
      "0:\tlearn: 1133.1963847\ttest: 1032.8345186\tbest: 1032.8345186 (0)\ttotal: 70.8ms\tremaining: 1h 10m 45s\n",
      "250:\tlearn: 186.9925554\ttest: 323.3734654\tbest: 323.3734654 (250)\ttotal: 2.97s\tremaining: 11m 46s\n",
      "500:\tlearn: 120.8233257\ttest: 304.4416704\tbest: 303.9107791 (452)\ttotal: 5.82s\tremaining: 11m 31s\n",
      "750:\tlearn: 91.7251694\ttest: 294.4507009\tbest: 294.4507009 (750)\ttotal: 8.67s\tremaining: 11m 24s\n",
      "1000:\tlearn: 73.9268990\ttest: 290.2288304\tbest: 290.1990482 (999)\ttotal: 11.5s\tremaining: 11m 17s\n",
      "1250:\tlearn: 62.6547363\ttest: 288.8670679\tbest: 288.8567202 (1248)\ttotal: 14.3s\tremaining: 11m 12s\n",
      "1500:\tlearn: 54.9621009\ttest: 287.5083440\tbest: 287.5083440 (1500)\ttotal: 17.2s\tremaining: 11m 10s\n",
      "1750:\tlearn: 49.0542570\ttest: 286.2480219\tbest: 286.2436965 (1746)\ttotal: 20.1s\tremaining: 11m 8s\n",
      "2000:\tlearn: 44.2839464\ttest: 285.4388544\tbest: 285.4271142 (1987)\ttotal: 23s\tremaining: 11m 5s\n",
      "2250:\tlearn: 40.5172431\ttest: 285.2662303\tbest: 285.2325958 (2104)\ttotal: 25.9s\tremaining: 11m 4s\n",
      "2500:\tlearn: 37.6253352\ttest: 285.0483301\tbest: 285.0172244 (2463)\ttotal: 28.8s\tremaining: 11m 1s\n",
      "2750:\tlearn: 35.3236621\ttest: 284.8534220\tbest: 284.8362681 (2747)\ttotal: 31.6s\tremaining: 10m 57s\n",
      "3000:\tlearn: 33.3855260\ttest: 284.6095551\tbest: 284.6075359 (2998)\ttotal: 34.6s\tremaining: 10m 56s\n",
      "3250:\tlearn: 31.5757657\ttest: 284.4492604\tbest: 284.4304654 (3243)\ttotal: 37.5s\tremaining: 10m 53s\n",
      "3500:\tlearn: 30.1534971\ttest: 284.3686200\tbest: 284.3526905 (3458)\ttotal: 40.3s\tremaining: 10m 50s\n",
      "3750:\tlearn: 28.8415353\ttest: 284.2196234\tbest: 284.2183378 (3745)\ttotal: 43.1s\tremaining: 10m 47s\n",
      "4000:\tlearn: 27.6529374\ttest: 284.1592067\tbest: 284.1522719 (3991)\ttotal: 46s\tremaining: 10m 43s\n",
      "4250:\tlearn: 26.5450370\ttest: 284.1358894\tbest: 284.1209071 (4177)\ttotal: 48.9s\tremaining: 10m 40s\n",
      "4500:\tlearn: 25.5890966\ttest: 284.0625924\tbest: 284.0547932 (4487)\ttotal: 51.7s\tremaining: 10m 37s\n",
      "4750:\tlearn: 24.6445922\ttest: 284.0392126\tbest: 284.0322389 (4589)\ttotal: 54.6s\tremaining: 10m 35s\n",
      "5000:\tlearn: 23.8276571\ttest: 284.0036464\tbest: 283.9741857 (4896)\ttotal: 57.5s\tremaining: 10m 32s\n",
      "5250:\tlearn: 23.1132721\ttest: 283.9181959\tbest: 283.9171124 (5241)\ttotal: 1m\tremaining: 10m 29s\n",
      "5500:\tlearn: 22.3820063\ttest: 283.8992130\tbest: 283.8707976 (5415)\ttotal: 1m 3s\tremaining: 10m 27s\n",
      "Stopped by overfitting detector  (300 iterations wait)\n",
      "\n",
      "bestTest = 283.8707976\n",
      "bestIteration = 5415\n",
      "\n",
      "Shrink model to first 5416 iterations.\n",
      "Training complete.\n",
      "Training model for category 2\n",
      "\n",
      "Initialized SingleCategoryModel for category 2.\n",
      "0:\tlearn: 1133.1963847\ttest: 1032.8345186\tbest: 1032.8345186 (0)\ttotal: 11.6ms\tremaining: 11m 35s\n",
      "250:\tlearn: 186.9925554\ttest: 323.3734654\tbest: 323.3734654 (250)\ttotal: 2.95s\tremaining: 11m 41s\n",
      "500:\tlearn: 120.8233257\ttest: 304.4416704\tbest: 303.9107791 (452)\ttotal: 5.86s\tremaining: 11m 36s\n",
      "750:\tlearn: 91.7251694\ttest: 294.4507009\tbest: 294.4507009 (750)\ttotal: 8.67s\tremaining: 11m 23s\n",
      "1000:\tlearn: 73.9268990\ttest: 290.2288304\tbest: 290.1990482 (999)\ttotal: 11.5s\tremaining: 11m 17s\n",
      "1250:\tlearn: 62.6547363\ttest: 288.8670679\tbest: 288.8567202 (1248)\ttotal: 14.3s\tremaining: 11m 12s\n",
      "1500:\tlearn: 54.9621009\ttest: 287.5083440\tbest: 287.5083440 (1500)\ttotal: 17.2s\tremaining: 11m 10s\n",
      "1750:\tlearn: 49.0542570\ttest: 286.2480219\tbest: 286.2436965 (1746)\ttotal: 20.1s\tremaining: 11m 8s\n",
      "2000:\tlearn: 44.2839464\ttest: 285.4388544\tbest: 285.4271142 (1987)\ttotal: 23s\tremaining: 11m 5s\n",
      "2250:\tlearn: 40.5172431\ttest: 285.2662303\tbest: 285.2325958 (2104)\ttotal: 25.9s\tremaining: 11m 3s\n",
      "2500:\tlearn: 37.6253352\ttest: 285.0483301\tbest: 285.0172244 (2463)\ttotal: 28.7s\tremaining: 11m\n",
      "2750:\tlearn: 35.3236621\ttest: 284.8534220\tbest: 284.8362681 (2747)\ttotal: 31.6s\tremaining: 10m 56s\n",
      "3000:\tlearn: 33.3855260\ttest: 284.6095551\tbest: 284.6075359 (2998)\ttotal: 34.4s\tremaining: 10m 53s\n",
      "3250:\tlearn: 31.5757657\ttest: 284.4492604\tbest: 284.4304654 (3243)\ttotal: 37.3s\tremaining: 10m 51s\n",
      "3500:\tlearn: 30.1534971\ttest: 284.3686200\tbest: 284.3526905 (3458)\ttotal: 40.1s\tremaining: 10m 47s\n",
      "3750:\tlearn: 28.8415353\ttest: 284.2196234\tbest: 284.2183378 (3745)\ttotal: 43s\tremaining: 10m 44s\n",
      "4000:\tlearn: 27.6529374\ttest: 284.1592067\tbest: 284.1522719 (3991)\ttotal: 45.8s\tremaining: 10m 41s\n",
      "4250:\tlearn: 26.5450370\ttest: 284.1358894\tbest: 284.1209071 (4177)\ttotal: 48.7s\tremaining: 10m 38s\n",
      "4500:\tlearn: 25.5890966\ttest: 284.0625924\tbest: 284.0547932 (4487)\ttotal: 51.5s\tremaining: 10m 35s\n",
      "4750:\tlearn: 24.6445922\ttest: 284.0392126\tbest: 284.0322389 (4589)\ttotal: 54.4s\tremaining: 10m 32s\n",
      "5000:\tlearn: 23.8276571\ttest: 284.0036464\tbest: 283.9741857 (4896)\ttotal: 57.3s\tremaining: 10m 29s\n",
      "5250:\tlearn: 23.1132721\ttest: 283.9181959\tbest: 283.9171124 (5241)\ttotal: 1m\tremaining: 10m 26s\n",
      "5500:\tlearn: 22.3820063\ttest: 283.8992130\tbest: 283.8707976 (5415)\ttotal: 1m 2s\tremaining: 10m 23s\n",
      "Stopped by overfitting detector  (300 iterations wait)\n",
      "\n",
      "bestTest = 283.8707976\n",
      "bestIteration = 5415\n",
      "\n",
      "Shrink model to first 5416 iterations.\n",
      "Training complete.\n"
     ]
    }
   ],
   "source": [
    "from single_cat_model import SingleCategoryModel\n",
    "\n",
    "categories_models = {}\n",
    "\n",
    "for category in unique_categories:\n",
    "    print(\"Training model for category\", category, end='\\n\\n')\n",
    "    model = SingleCategoryModel(category_number=category)\n",
    "    \n",
    "    model.train(categories_dfs[category])\n",
    "    \n",
    "    categories_models[category] = model"
   ]
  },
  {
   "cell_type": "markdown",
   "metadata": {},
   "source": [
    "### Saving models to ONNX and CBM format"
   ]
  },
  {
   "cell_type": "code",
   "execution_count": 5,
   "metadata": {},
   "outputs": [
    {
     "data": {
      "text/plain": [
       "{1: <single_cat_model.SingleCategoryModel at 0x11cdd7610>,\n",
       " 2: <single_cat_model.SingleCategoryModel at 0x16b2c3e10>}"
      ]
     },
     "execution_count": 5,
     "metadata": {},
     "output_type": "execute_result"
    }
   ],
   "source": [
    "categories_models"
   ]
  },
  {
   "cell_type": "code",
   "execution_count": 6,
   "metadata": {},
   "outputs": [
    {
     "name": "stdout",
     "output_type": "stream",
     "text": [
      "Model exported to ./models/onnx/category_1_model.onnx\n",
      "Model exported to ./models/onnx/category_2_model.onnx\n"
     ]
    }
   ],
   "source": [
    "for category in categories_models.keys():\n",
    "    categories_models[category].export(output_path_onnx=f'./models/onnx/category_{category}_model.onnx')"
   ]
  },
  {
   "cell_type": "markdown",
   "metadata": {},
   "source": [
    "## Validating model for each category"
   ]
  },
  {
   "cell_type": "markdown",
   "metadata": {},
   "source": [
    "### Loading available models and validating on test data"
   ]
  },
  {
   "cell_type": "code",
   "execution_count": 7,
   "metadata": {},
   "outputs": [
    {
     "name": "stdout",
     "output_type": "stream",
     "text": [
      "Initialized SingleCategoryModel for category 1.\n",
      "Loaded the model from ./models/onnx/category_1_model.onnx\n",
      "\n",
      "Regression Metrics:\n",
      "\n",
      "Mean Absolute Error (MAE): 25.0373\n",
      "Mean Squared Error (MSE): 157892.7961\n",
      "Root Mean Squared Error (RMSE): 397.3573\n",
      "R² Score: 0.9022\n",
      "Pearson Correlation (Full Dataset): 0.9578\n",
      "Pearson Correlation (Sample Size 100): 0.9979\n",
      "Pearson Correlation (Sample Size 1000): 0.9972\n",
      "Pearson Correlation (Sample Size 10000): 0.9576\n",
      "Pearson correlation plot saved to ./validation_plots/cat_1_pearson.png\n",
      "\n",
      "\n",
      "Initialized SingleCategoryModel for category 2.\n",
      "Loaded the model from ./models/onnx/category_2_model.onnx\n",
      "\n",
      "Regression Metrics:\n",
      "\n",
      "Mean Absolute Error (MAE): 25.0373\n",
      "Mean Squared Error (MSE): 157892.7961\n",
      "Root Mean Squared Error (RMSE): 397.3573\n",
      "R² Score: 0.9022\n",
      "Pearson Correlation (Full Dataset): 0.9578\n",
      "Pearson Correlation (Sample Size 100): 0.9997\n",
      "Pearson Correlation (Sample Size 1000): 0.9841\n",
      "Pearson Correlation (Sample Size 10000): 0.9577\n",
      "Pearson correlation plot saved to ./validation_plots/cat_2_pearson.png\n",
      "\n",
      "\n"
     ]
    }
   ],
   "source": [
    "from single_cat_model import SingleCategoryModel\n",
    "import pandas as pd\n",
    "import numpy as np\n",
    "\n",
    "# categries you saved your models for\n",
    "categories = [1, 2]\n",
    "\n",
    "test_categories_dfs = {}\n",
    "\n",
    "# splitting test set to separate categories\n",
    "for category in categories:\n",
    "    test_categories_dfs[category] = test_df[test_df['category_id'] == category]\n",
    "    \n",
    "metrics_dict = {}\n",
    "\n",
    "for category in categories:\n",
    "    \n",
    "    # initializing empty model\n",
    "    model = SingleCategoryModel(category_number=category)\n",
    "    # loading saved weights\n",
    "    model.load_model(f'./models/onnx/category_{category}_model.onnx') # using path to CBM format!\n",
    "    # validating on test set\n",
    "    metrics = model.validate(\n",
    "        valid_df=test_categories_dfs[category], \n",
    "        save_plot_path=f'./validation_plots/cat_{category}_pearson.png'\n",
    "    )\n",
    "    \n",
    "    # saving metrics\n",
    "    metrics_dict[category] = metrics\n",
    "    \n",
    "    print('\\n')"
   ]
  },
  {
   "cell_type": "code",
   "execution_count": 8,
   "metadata": {},
   "outputs": [
    {
     "data": {
      "text/plain": [
       "{1: {'mae': 25.037282249779665,\n",
       "  'mse': 157892.79612663962,\n",
       "  'rmse': 397.3572650986007,\n",
       "  'r2': 0.9021543294164768,\n",
       "  'pearson_correlation_full': 0.9578366100725145,\n",
       "  'sample_pearsons': {100: 0.9978670410909967,\n",
       "   1000: 0.9971617271862951,\n",
       "   10000: 0.95764404607015}},\n",
       " 2: {'mae': 25.037282249779665,\n",
       "  'mse': 157892.79612663962,\n",
       "  'rmse': 397.3572650986007,\n",
       "  'r2': 0.9021543294164768,\n",
       "  'pearson_correlation_full': 0.9578366100725145,\n",
       "  'sample_pearsons': {100: 0.9996907655746505,\n",
       "   1000: 0.9840636859813109,\n",
       "   10000: 0.9577428769826938}}}"
      ]
     },
     "execution_count": 8,
     "metadata": {},
     "output_type": "execute_result"
    }
   ],
   "source": [
    "metrics_dict"
   ]
  },
  {
   "cell_type": "markdown",
   "metadata": {},
   "source": [
    "## Finetuning example"
   ]
  },
  {
   "cell_type": "code",
   "execution_count": 9,
   "metadata": {},
   "outputs": [
    {
     "name": "stderr",
     "output_type": "stream",
     "text": [
      "Model shrinkage in combination with learning continuation is not implemented yet. Reset model_shrink_rate to 0.\n"
     ]
    },
    {
     "name": "stdout",
     "output_type": "stream",
     "text": [
      "An error occurred during finetuning: /Users/zomb-ml-platform-msk/go-agent-21.2.0/pipelines/BuildMaster/catboost.git/catboost/libs/train_lib/options_helper.cpp:386: Model shrinkage and Posterior Sampling in combination with learning continuation is not implemented yet.\n",
      "\n",
      "Regression Metrics:\n",
      "\n",
      "Mean Absolute Error (MAE): 25.0373\n",
      "Mean Squared Error (MSE): 157892.7961\n",
      "Root Mean Squared Error (RMSE): 397.3573\n",
      "R² Score: 0.9022\n",
      "Pearson Correlation (Full Dataset): 0.9578\n",
      "Pearson Correlation (Sample Size 100): 0.9996\n",
      "Pearson Correlation (Sample Size 1000): 0.9971\n",
      "Pearson Correlation (Sample Size 10000): 0.9578\n",
      "Pearson correlation plot saved to pearson_vs_samples.png\n",
      "{'mae': 25.037282249779665, 'mse': 157892.79612663962, 'rmse': 397.3572650986007, 'r2': 0.9021543294164768, 'pearson_correlation_full': 0.9578366100725145, 'sample_pearsons': {100: 0.9996451182270125, 1000: 0.9971058965946535, 10000: 0.957780397890338}}\n"
     ]
    }
   ],
   "source": [
    "model.finetune(test_1)\n",
    "\n",
    "metrics = model.validate(test_1)\n",
    "\n",
    "print(metrics)"
   ]
  },
  {
   "cell_type": "code",
   "execution_count": null,
   "metadata": {},
   "outputs": [],
   "source": []
  }
 ],
 "metadata": {
  "kernelspec": {
   "display_name": "recsys",
   "language": "python",
   "name": "python3"
  },
  "language_info": {
   "codemirror_mode": {
    "name": "ipython",
    "version": 3
   },
   "file_extension": ".py",
   "mimetype": "text/x-python",
   "name": "python",
   "nbconvert_exporter": "python",
   "pygments_lexer": "ipython3",
   "version": "3.11.10"
  }
 },
 "nbformat": 4,
 "nbformat_minor": 2
}
