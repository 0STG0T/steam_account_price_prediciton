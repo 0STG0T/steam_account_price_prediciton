{
 "cells": [
  {
   "cell_type": "code",
   "execution_count": 1,
   "metadata": {},
   "outputs": [
    {
     "name": "stderr",
     "output_type": "stream",
     "text": [
      "/Users/asgatakmaev/miniconda3/envs/recsys/lib/python3.11/site-packages/tqdm/auto.py:21: TqdmWarning: IProgress not found. Please update jupyter and ipywidgets. See https://ipywidgets.readthedocs.io/en/stable/user_install.html\n",
      "  from .autonotebook import tqdm as notebook_tqdm\n"
     ]
    },
    {
     "data": {
      "text/html": [
       "<div>\n",
       "<style scoped>\n",
       "    .dataframe tbody tr th:only-of-type {\n",
       "        vertical-align: middle;\n",
       "    }\n",
       "\n",
       "    .dataframe tbody tr th {\n",
       "        vertical-align: top;\n",
       "    }\n",
       "\n",
       "    .dataframe thead th {\n",
       "        text-align: right;\n",
       "    }\n",
       "</style>\n",
       "<table border=\"1\" class=\"dataframe\">\n",
       "  <thead>\n",
       "    <tr style=\"text-align: right;\">\n",
       "      <th></th>\n",
       "      <th>category_id</th>\n",
       "      <th>published_date</th>\n",
       "      <th>price</th>\n",
       "      <th>update_stat_date</th>\n",
       "      <th>refreshed_date</th>\n",
       "      <th>view_count</th>\n",
       "      <th>is_sticky</th>\n",
       "      <th>item_origin</th>\n",
       "      <th>extended_guarantee</th>\n",
       "      <th>nsb</th>\n",
       "      <th>...</th>\n",
       "      <th>steam_cs2_ban_type</th>\n",
       "      <th>steam_rust_kill_player</th>\n",
       "      <th>steam_rust_deaths</th>\n",
       "      <th>steam_total_gifts_rub</th>\n",
       "      <th>steam_total_refunds_rub</th>\n",
       "      <th>steam_total_ingame_rub</th>\n",
       "      <th>steam_total_games_rub</th>\n",
       "      <th>steam_total_purchased_rub</th>\n",
       "      <th>steam_dota2_last_match_date</th>\n",
       "      <th>sold_price</th>\n",
       "    </tr>\n",
       "  </thead>\n",
       "  <tbody>\n",
       "    <tr>\n",
       "      <th>0</th>\n",
       "      <td>1</td>\n",
       "      <td>1695058353</td>\n",
       "      <td>360</td>\n",
       "      <td>1695227440</td>\n",
       "      <td>1695058353</td>\n",
       "      <td>9</td>\n",
       "      <td>0</td>\n",
       "      <td>fishing</td>\n",
       "      <td>-1</td>\n",
       "      <td>1</td>\n",
       "      <td>...</td>\n",
       "      <td>0</td>\n",
       "      <td>0</td>\n",
       "      <td>0</td>\n",
       "      <td>0</td>\n",
       "      <td>0</td>\n",
       "      <td>0</td>\n",
       "      <td>0</td>\n",
       "      <td>0</td>\n",
       "      <td>0</td>\n",
       "      <td>360</td>\n",
       "    </tr>\n",
       "    <tr>\n",
       "      <th>1</th>\n",
       "      <td>1</td>\n",
       "      <td>1689775707</td>\n",
       "      <td>115</td>\n",
       "      <td>0</td>\n",
       "      <td>1689775707</td>\n",
       "      <td>8</td>\n",
       "      <td>0</td>\n",
       "      <td>brute</td>\n",
       "      <td>0</td>\n",
       "      <td>1</td>\n",
       "      <td>...</td>\n",
       "      <td>0</td>\n",
       "      <td>0</td>\n",
       "      <td>0</td>\n",
       "      <td>0</td>\n",
       "      <td>0</td>\n",
       "      <td>0</td>\n",
       "      <td>0</td>\n",
       "      <td>0</td>\n",
       "      <td>0</td>\n",
       "      <td>115</td>\n",
       "    </tr>\n",
       "    <tr>\n",
       "      <th>2</th>\n",
       "      <td>1</td>\n",
       "      <td>1694338912</td>\n",
       "      <td>145</td>\n",
       "      <td>0</td>\n",
       "      <td>1695842027</td>\n",
       "      <td>71</td>\n",
       "      <td>0</td>\n",
       "      <td>autoreg</td>\n",
       "      <td>1</td>\n",
       "      <td>1</td>\n",
       "      <td>...</td>\n",
       "      <td>0</td>\n",
       "      <td>0</td>\n",
       "      <td>0</td>\n",
       "      <td>0</td>\n",
       "      <td>0</td>\n",
       "      <td>0</td>\n",
       "      <td>0</td>\n",
       "      <td>0</td>\n",
       "      <td>0</td>\n",
       "      <td>145</td>\n",
       "    </tr>\n",
       "    <tr>\n",
       "      <th>3</th>\n",
       "      <td>1</td>\n",
       "      <td>1694791149</td>\n",
       "      <td>649</td>\n",
       "      <td>0</td>\n",
       "      <td>1694791149</td>\n",
       "      <td>59</td>\n",
       "      <td>0</td>\n",
       "      <td>resale</td>\n",
       "      <td>0</td>\n",
       "      <td>0</td>\n",
       "      <td>...</td>\n",
       "      <td>0</td>\n",
       "      <td>0</td>\n",
       "      <td>0</td>\n",
       "      <td>0</td>\n",
       "      <td>0</td>\n",
       "      <td>0</td>\n",
       "      <td>0</td>\n",
       "      <td>0</td>\n",
       "      <td>0</td>\n",
       "      <td>649</td>\n",
       "    </tr>\n",
       "    <tr>\n",
       "      <th>4</th>\n",
       "      <td>1</td>\n",
       "      <td>1695738971</td>\n",
       "      <td>40</td>\n",
       "      <td>1695847124</td>\n",
       "      <td>1695738971</td>\n",
       "      <td>10</td>\n",
       "      <td>0</td>\n",
       "      <td>brute</td>\n",
       "      <td>0</td>\n",
       "      <td>1</td>\n",
       "      <td>...</td>\n",
       "      <td>0</td>\n",
       "      <td>0</td>\n",
       "      <td>0</td>\n",
       "      <td>0</td>\n",
       "      <td>0</td>\n",
       "      <td>0</td>\n",
       "      <td>0</td>\n",
       "      <td>0</td>\n",
       "      <td>0</td>\n",
       "      <td>40</td>\n",
       "    </tr>\n",
       "  </tbody>\n",
       "</table>\n",
       "<p>5 rows × 73 columns</p>\n",
       "</div>"
      ],
      "text/plain": [
       "   category_id  published_date  price  update_stat_date  refreshed_date  \\\n",
       "0            1      1695058353    360        1695227440      1695058353   \n",
       "1            1      1689775707    115                 0      1689775707   \n",
       "2            1      1694338912    145                 0      1695842027   \n",
       "3            1      1694791149    649                 0      1694791149   \n",
       "4            1      1695738971     40        1695847124      1695738971   \n",
       "\n",
       "   view_count  is_sticky item_origin  extended_guarantee  nsb  ...  \\\n",
       "0           9          0     fishing                  -1    1  ...   \n",
       "1           8          0       brute                   0    1  ...   \n",
       "2          71          0     autoreg                   1    1  ...   \n",
       "3          59          0      resale                   0    0  ...   \n",
       "4          10          0       brute                   0    1  ...   \n",
       "\n",
       "  steam_cs2_ban_type steam_rust_kill_player steam_rust_deaths  \\\n",
       "0                  0                      0                 0   \n",
       "1                  0                      0                 0   \n",
       "2                  0                      0                 0   \n",
       "3                  0                      0                 0   \n",
       "4                  0                      0                 0   \n",
       "\n",
       "   steam_total_gifts_rub steam_total_refunds_rub  steam_total_ingame_rub  \\\n",
       "0                      0                       0                       0   \n",
       "1                      0                       0                       0   \n",
       "2                      0                       0                       0   \n",
       "3                      0                       0                       0   \n",
       "4                      0                       0                       0   \n",
       "\n",
       "   steam_total_games_rub steam_total_purchased_rub  \\\n",
       "0                      0                         0   \n",
       "1                      0                         0   \n",
       "2                      0                         0   \n",
       "3                      0                         0   \n",
       "4                      0                         0   \n",
       "\n",
       "   steam_dota2_last_match_date sold_price  \n",
       "0                            0        360  \n",
       "1                            0        115  \n",
       "2                            0        145  \n",
       "3                            0        649  \n",
       "4                            0         40  \n",
       "\n",
       "[5 rows x 73 columns]"
      ]
     },
     "execution_count": 1,
     "metadata": {},
     "output_type": "execute_result"
    }
   ],
   "source": [
    "import pandas as pd\n",
    "import numpy as np\n",
    "from tqdm.auto import tqdm\n",
    "import warnings\n",
    "from sklearn.model_selection import train_test_split\n",
    "\n",
    "warnings.filterwarnings('ignore')\n",
    "\n",
    "# Use True if you dont have your own data\n",
    "USE_DEMO_DATA = True\n",
    "\n",
    "# Specify if you have your own data\n",
    "TRAIN_DATA_PATH = 'YOUR_TRAIN_DATA_PATH'\n",
    "TEST_DATA_PATH = 'YOUR_TEST_DATA_PATH'\n",
    "\n",
    "if USE_DEMO_DATA:\n",
    "    # making demo data for 2 categories\n",
    "    df = pd.read_json('../data/dataset.json')\n",
    "    cat_2_df = df.copy()\n",
    "    cat_2_df['category_id'] = 2\n",
    "    train_1, test_1 = train_test_split(df, shuffle=True, random_state=42, test_size=0.078)\n",
    "    train_2, test_2 = train_test_split(cat_2_df, shuffle=True, random_state=42, test_size=0.078)\n",
    "    \n",
    "    train_df = pd.concat([train_1, train_2]).reset_index(drop=True)\n",
    "    test_df = pd.concat([test_1, test_2]).reset_index(drop=True)\n",
    "else:\n",
    "    # reading your data\n",
    "    train_df = pd.read_json(TRAIN_DATA_PATH)\n",
    "    test_df = pd.read_json(TEST_DATA_PATH)\n",
    "    \n",
    "train_df.head()"
   ]
  },
  {
   "cell_type": "code",
   "execution_count": 2,
   "metadata": {},
   "outputs": [
    {
     "name": "stdout",
     "output_type": "stream",
     "text": [
      "[1 2]\n"
     ]
    }
   ],
   "source": [
    "unique_categories = train_df['category_id'].unique()\n",
    "\n",
    "print(unique_categories)"
   ]
  },
  {
   "cell_type": "markdown",
   "metadata": {},
   "source": [
    "#### Splitting data into separate catogories by category_id"
   ]
  },
  {
   "cell_type": "code",
   "execution_count": 3,
   "metadata": {},
   "outputs": [
    {
     "name": "stderr",
     "output_type": "stream",
     "text": [
      "  0%|          | 0/2 [00:00<?, ?it/s]"
     ]
    },
    {
     "name": "stderr",
     "output_type": "stream",
     "text": [
      "100%|██████████| 2/2 [00:00<00:00, 11.26it/s]\n"
     ]
    },
    {
     "data": {
      "text/plain": [
       "dict_keys([1, 2])"
      ]
     },
     "execution_count": 3,
     "metadata": {},
     "output_type": "execute_result"
    }
   ],
   "source": [
    "categories_dfs = {}\n",
    "\n",
    "for category in tqdm(unique_categories):\n",
    "    category_df = train_df[train_df['category_id'] == category].copy()\n",
    "    categories_dfs[category] = category_df\n",
    "    \n",
    "categories_dfs.keys()"
   ]
  },
  {
   "cell_type": "markdown",
   "metadata": {},
   "source": [
    "## Training models for each category"
   ]
  },
  {
   "cell_type": "code",
   "execution_count": 4,
   "metadata": {},
   "outputs": [
    {
     "name": "stdout",
     "output_type": "stream",
     "text": [
      "Training model for category 1\n",
      "\n",
      "Initialized SingleCategoryModel for category 1.\n",
      "TRAINING FOLD 1 of 3 total.\n",
      "\n",
      "TRAINING FOLD 2 of 3 total.\n",
      "\n",
      "TRAINING FOLD 3 of 3 total.\n",
      "\n",
      "Training complete.\n",
      "Training model for category 2\n",
      "\n",
      "Initialized SingleCategoryModel for category 2.\n",
      "TRAINING FOLD 1 of 3 total.\n",
      "\n",
      "TRAINING FOLD 2 of 3 total.\n",
      "\n",
      "TRAINING FOLD 3 of 3 total.\n",
      "\n",
      "Training complete.\n"
     ]
    }
   ],
   "source": [
    "from single_cat_model import SingleCategoryModel\n",
    "\n",
    "categories_models = {}\n",
    "\n",
    "for category in unique_categories:\n",
    "    print(\"Training model for category\", category, end='\\n\\n')\n",
    "    model = SingleCategoryModel(category_number=category)\n",
    "    \n",
    "    model.train(categories_dfs[category])\n",
    "    \n",
    "    categories_models[category] = model"
   ]
  },
  {
   "cell_type": "markdown",
   "metadata": {},
   "source": [
    "### Saving models to ONNX and CBM format"
   ]
  },
  {
   "cell_type": "code",
   "execution_count": 5,
   "metadata": {},
   "outputs": [
    {
     "data": {
      "text/plain": [
       "{1: <single_cat_model.SingleCategoryModel at 0x16365fbd0>,\n",
       " 2: <single_cat_model.SingleCategoryModel at 0x16417a010>}"
      ]
     },
     "execution_count": 5,
     "metadata": {},
     "output_type": "execute_result"
    }
   ],
   "source": [
    "categories_models"
   ]
  },
  {
   "cell_type": "code",
   "execution_count": 6,
   "metadata": {},
   "outputs": [
    {
     "name": "stdout",
     "output_type": "stream",
     "text": [
      "Model exported to ./models/onnx/category_1_model.onnx\n",
      "Model exported to ./models/onnx/category_2_model.onnx\n"
     ]
    }
   ],
   "source": [
    "for category in categories_models.keys():\n",
    "    categories_models[category].export(output_path_onnx=f'./models/onnx/category_{category}_model.onnx')"
   ]
  },
  {
   "cell_type": "markdown",
   "metadata": {},
   "source": [
    "## Validating model for each category"
   ]
  },
  {
   "cell_type": "markdown",
   "metadata": {},
   "source": [
    "### Loading available models and validating on test data"
   ]
  },
  {
   "cell_type": "code",
   "execution_count": 7,
   "metadata": {},
   "outputs": [
    {
     "name": "stdout",
     "output_type": "stream",
     "text": [
      "Initialized SingleCategoryModel for category 1.\n",
      "Loaded the model from ./models/onnx/category_1_model.onnx\n",
      "\n",
      "Regression Metrics:\n",
      "\n",
      "Mean Absolute Error (MAE): 28.9945\n",
      "Mean Squared Error (MSE): 204498.9485\n",
      "Root Mean Squared Error (RMSE): 452.2156\n",
      "R² Score: 0.8733\n",
      "Pearson Correlation (Full Dataset): 0.9457\n",
      "Pearson Correlation (Sample Size 100): 0.9984\n",
      "Pearson Correlation (Sample Size 1000): 0.8830\n",
      "Pearson Correlation (Sample Size 10000): 0.9440\n",
      "Pearson correlation plot saved to ./validation_plots/cat_1_pearson.png\n",
      "\n",
      "\n",
      "Initialized SingleCategoryModel for category 2.\n",
      "Loaded the model from ./models/onnx/category_2_model.onnx\n",
      "\n",
      "Regression Metrics:\n",
      "\n",
      "Mean Absolute Error (MAE): 28.9945\n",
      "Mean Squared Error (MSE): 204498.9485\n",
      "Root Mean Squared Error (RMSE): 452.2156\n",
      "R² Score: 0.8733\n",
      "Pearson Correlation (Full Dataset): 0.9457\n",
      "Pearson Correlation (Sample Size 100): 0.9951\n",
      "Pearson Correlation (Sample Size 1000): 0.9836\n",
      "Pearson Correlation (Sample Size 10000): 0.9455\n",
      "Pearson correlation plot saved to ./validation_plots/cat_2_pearson.png\n",
      "\n",
      "\n"
     ]
    }
   ],
   "source": [
    "from single_cat_model import SingleCategoryModel\n",
    "import pandas as pd\n",
    "import numpy as np\n",
    "\n",
    "# categries you saved your models for\n",
    "categories = [1, 2]\n",
    "\n",
    "test_categories_dfs = {}\n",
    "\n",
    "# splitting test set to separate categories\n",
    "for category in categories:\n",
    "    test_categories_dfs[category] = test_df[test_df['category_id'] == category]\n",
    "    \n",
    "metrics_dict = {}\n",
    "\n",
    "for category in categories:\n",
    "    \n",
    "    # initializing empty model\n",
    "    model = SingleCategoryModel(category_number=category)\n",
    "    # loading saved weights\n",
    "    model.load_model(f'./models/onnx/category_{category}_model.onnx') # using path to CBM format!\n",
    "    # validating on test set\n",
    "    metrics = model.validate(\n",
    "        valid_df=test_categories_dfs[category], \n",
    "        save_plot_path=f'./validation_plots/cat_{category}_pearson.png'\n",
    "    )\n",
    "    \n",
    "    # saving metrics\n",
    "    metrics_dict[category] = metrics\n",
    "    \n",
    "    print('\\n')"
   ]
  },
  {
   "cell_type": "code",
   "execution_count": 8,
   "metadata": {},
   "outputs": [
    {
     "data": {
      "text/plain": [
       "{1: {'mae': 28.99447410787435,\n",
       "  'mse': 204498.94854526053,\n",
       "  'rmse': 452.2155996261745,\n",
       "  'r2': 0.8732726429267379,\n",
       "  'pearson_correlation_full': 0.9456589207734637,\n",
       "  'sample_pearsons': {100: 0.9984008697262701,\n",
       "   1000: 0.8829581747867876,\n",
       "   10000: 0.9439721083480016}},\n",
       " 2: {'mae': 28.99447410787435,\n",
       "  'mse': 204498.94854526053,\n",
       "  'rmse': 452.2155996261745,\n",
       "  'r2': 0.8732726429267379,\n",
       "  'pearson_correlation_full': 0.9456589207734637,\n",
       "  'sample_pearsons': {100: 0.9951397894653516,\n",
       "   1000: 0.983551185154722,\n",
       "   10000: 0.945535746586353}}}"
      ]
     },
     "execution_count": 8,
     "metadata": {},
     "output_type": "execute_result"
    }
   ],
   "source": [
    "metrics_dict"
   ]
  },
  {
   "cell_type": "markdown",
   "metadata": {},
   "source": [
    "## Finetuning example"
   ]
  },
  {
   "cell_type": "code",
   "execution_count": 9,
   "metadata": {},
   "outputs": [
    {
     "ename": "CatBoostError",
     "evalue": "/Users/zomb-ml-platform-msk/go-agent-21.2.0/pipelines/BuildMaster/catboost.git/catboost/libs/model/model.cpp:1885: Summation of symmetric and non-symmetric models is not supported [for now]",
     "output_type": "error",
     "traceback": [
      "\u001b[0;31m---------------------------------------------------------------------------\u001b[0m",
      "\u001b[0;31mCatBoostError\u001b[0m                             Traceback (most recent call last)",
      "Cell \u001b[0;32mIn[9], line 1\u001b[0m\n\u001b[0;32m----> 1\u001b[0m model\u001b[38;5;241m.\u001b[39mfinetune(test_1)\n\u001b[1;32m      3\u001b[0m metrics \u001b[38;5;241m=\u001b[39m model\u001b[38;5;241m.\u001b[39mvalidate(test_1)\n\u001b[1;32m      5\u001b[0m \u001b[38;5;28mprint\u001b[39m(metrics)\n",
      "File \u001b[0;32m~/Desktop/business/lolz/project/main/single_cat_model.py:314\u001b[0m, in \u001b[0;36mSingleCategoryModel.finetune\u001b[0;34m(self, df, use_crossval)\u001b[0m\n\u001b[1;32m    312\u001b[0m \u001b[38;5;28;01mif\u001b[39;00m use_crossval:\n\u001b[1;32m    313\u001b[0m     X_train, X_test, y_train, y_test \u001b[38;5;241m=\u001b[39m train_test_split(X_train, y_train)\n\u001b[0;32m--> 314\u001b[0m     new_model\u001b[38;5;241m.\u001b[39mfit(X_train, y_train, eval_set\u001b[38;5;241m=\u001b[39m(X_test, y_test), verbose\u001b[38;5;241m=\u001b[39m\u001b[38;5;241m0\u001b[39m, init_model\u001b[38;5;241m=\u001b[39m\u001b[38;5;28mself\u001b[39m\u001b[38;5;241m.\u001b[39mmeta_model)\n\u001b[1;32m    315\u001b[0m \u001b[38;5;28;01melse\u001b[39;00m:\n\u001b[1;32m    316\u001b[0m     new_model\u001b[38;5;241m.\u001b[39mfit(X_train, y_train, verbose\u001b[38;5;241m=\u001b[39m\u001b[38;5;241m0\u001b[39m, init_model\u001b[38;5;241m=\u001b[39m\u001b[38;5;28mself\u001b[39m\u001b[38;5;241m.\u001b[39mmeta_model)\n",
      "File \u001b[0;32m~/miniconda3/envs/recsys/lib/python3.11/site-packages/catboost/core.py:5827\u001b[0m, in \u001b[0;36mCatBoostRegressor.fit\u001b[0;34m(self, X, y, cat_features, text_features, embedding_features, sample_weight, baseline, use_best_model, eval_set, verbose, logging_level, plot, plot_file, column_description, verbose_eval, metric_period, silent, early_stopping_rounds, save_snapshot, snapshot_file, snapshot_interval, init_model, callbacks, log_cout, log_cerr)\u001b[0m\n\u001b[1;32m   5824\u001b[0m \u001b[38;5;28;01mif\u001b[39;00m \u001b[38;5;124m'\u001b[39m\u001b[38;5;124mloss_function\u001b[39m\u001b[38;5;124m'\u001b[39m \u001b[38;5;129;01min\u001b[39;00m params:\n\u001b[1;32m   5825\u001b[0m     CatBoostRegressor\u001b[38;5;241m.\u001b[39m_check_is_compatible_loss(params[\u001b[38;5;124m'\u001b[39m\u001b[38;5;124mloss_function\u001b[39m\u001b[38;5;124m'\u001b[39m])\n\u001b[0;32m-> 5827\u001b[0m \u001b[38;5;28;01mreturn\u001b[39;00m \u001b[38;5;28mself\u001b[39m\u001b[38;5;241m.\u001b[39m_fit(X, y, cat_features, text_features, embedding_features, \u001b[38;5;28;01mNone\u001b[39;00m, sample_weight, \u001b[38;5;28;01mNone\u001b[39;00m, \u001b[38;5;28;01mNone\u001b[39;00m, \u001b[38;5;28;01mNone\u001b[39;00m, \u001b[38;5;28;01mNone\u001b[39;00m, baseline,\n\u001b[1;32m   5828\u001b[0m                  use_best_model, eval_set, verbose, logging_level, plot, plot_file, column_description,\n\u001b[1;32m   5829\u001b[0m                  verbose_eval, metric_period, silent, early_stopping_rounds,\n\u001b[1;32m   5830\u001b[0m                  save_snapshot, snapshot_file, snapshot_interval, init_model, callbacks, log_cout, log_cerr)\n",
      "File \u001b[0;32m~/miniconda3/envs/recsys/lib/python3.11/site-packages/catboost/core.py:2400\u001b[0m, in \u001b[0;36mCatBoost._fit\u001b[0;34m(self, X, y, cat_features, text_features, embedding_features, pairs, sample_weight, group_id, group_weight, subgroup_id, pairs_weight, baseline, use_best_model, eval_set, verbose, logging_level, plot, plot_file, column_description, verbose_eval, metric_period, silent, early_stopping_rounds, save_snapshot, snapshot_file, snapshot_interval, init_model, callbacks, log_cout, log_cerr)\u001b[0m\n\u001b[1;32m   2397\u001b[0m allow_clear_pool \u001b[38;5;241m=\u001b[39m train_params[\u001b[38;5;124m\"\u001b[39m\u001b[38;5;124mallow_clear_pool\u001b[39m\u001b[38;5;124m\"\u001b[39m]\n\u001b[1;32m   2399\u001b[0m \u001b[38;5;28;01mwith\u001b[39;00m plot_wrapper(plot, plot_file, \u001b[38;5;124m'\u001b[39m\u001b[38;5;124mTraining plots\u001b[39m\u001b[38;5;124m'\u001b[39m, [_get_train_dir(\u001b[38;5;28mself\u001b[39m\u001b[38;5;241m.\u001b[39mget_params())]):\n\u001b[0;32m-> 2400\u001b[0m     \u001b[38;5;28mself\u001b[39m\u001b[38;5;241m.\u001b[39m_train(\n\u001b[1;32m   2401\u001b[0m         train_pool,\n\u001b[1;32m   2402\u001b[0m         train_params[\u001b[38;5;124m\"\u001b[39m\u001b[38;5;124meval_sets\u001b[39m\u001b[38;5;124m\"\u001b[39m],\n\u001b[1;32m   2403\u001b[0m         params,\n\u001b[1;32m   2404\u001b[0m         allow_clear_pool,\n\u001b[1;32m   2405\u001b[0m         train_params[\u001b[38;5;124m\"\u001b[39m\u001b[38;5;124minit_model\u001b[39m\u001b[38;5;124m\"\u001b[39m]\n\u001b[1;32m   2406\u001b[0m     )\n\u001b[1;32m   2408\u001b[0m \u001b[38;5;66;03m# Have property feature_importance possibly set\u001b[39;00m\n\u001b[1;32m   2409\u001b[0m loss \u001b[38;5;241m=\u001b[39m \u001b[38;5;28mself\u001b[39m\u001b[38;5;241m.\u001b[39m_object\u001b[38;5;241m.\u001b[39m_get_loss_function_name()\n",
      "File \u001b[0;32m~/miniconda3/envs/recsys/lib/python3.11/site-packages/catboost/core.py:1780\u001b[0m, in \u001b[0;36m_CatBoostBase._train\u001b[0;34m(self, train_pool, test_pool, params, allow_clear_pool, init_model)\u001b[0m\n\u001b[1;32m   1779\u001b[0m \u001b[38;5;28;01mdef\u001b[39;00m \u001b[38;5;21m_train\u001b[39m(\u001b[38;5;28mself\u001b[39m, train_pool, test_pool, params, allow_clear_pool, init_model):\n\u001b[0;32m-> 1780\u001b[0m     \u001b[38;5;28mself\u001b[39m\u001b[38;5;241m.\u001b[39m_object\u001b[38;5;241m.\u001b[39m_train(train_pool, test_pool, params, allow_clear_pool, init_model\u001b[38;5;241m.\u001b[39m_object \u001b[38;5;28;01mif\u001b[39;00m init_model \u001b[38;5;28;01melse\u001b[39;00m \u001b[38;5;28;01mNone\u001b[39;00m)\n\u001b[1;32m   1781\u001b[0m     \u001b[38;5;28mself\u001b[39m\u001b[38;5;241m.\u001b[39m_set_trained_model_attributes()\n",
      "File \u001b[0;32m_catboost.pyx:4833\u001b[0m, in \u001b[0;36m_catboost._CatBoost._train\u001b[0;34m()\u001b[0m\n",
      "File \u001b[0;32m_catboost.pyx:4882\u001b[0m, in \u001b[0;36m_catboost._CatBoost._train\u001b[0;34m()\u001b[0m\n",
      "\u001b[0;31mCatBoostError\u001b[0m: /Users/zomb-ml-platform-msk/go-agent-21.2.0/pipelines/BuildMaster/catboost.git/catboost/libs/model/model.cpp:1885: Summation of symmetric and non-symmetric models is not supported [for now]"
     ]
    }
   ],
   "source": [
    "model.finetune(test_1)\n",
    "\n",
    "metrics = model.validate(test_1)\n",
    "\n",
    "print(metrics)"
   ]
  },
  {
   "cell_type": "code",
   "execution_count": null,
   "metadata": {},
   "outputs": [],
   "source": []
  }
 ],
 "metadata": {
  "kernelspec": {
   "display_name": "recsys",
   "language": "python",
   "name": "python3"
  },
  "language_info": {
   "codemirror_mode": {
    "name": "ipython",
    "version": 3
   },
   "file_extension": ".py",
   "mimetype": "text/x-python",
   "name": "python",
   "nbconvert_exporter": "python",
   "pygments_lexer": "ipython3",
   "version": "3.11.10"
  }
 },
 "nbformat": 4,
 "nbformat_minor": 2
}
