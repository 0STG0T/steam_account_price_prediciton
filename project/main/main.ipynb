{
 "cells": [
  {
   "cell_type": "code",
   "execution_count": 1,
   "metadata": {},
   "outputs": [
    {
     "name": "stderr",
     "output_type": "stream",
     "text": [
      "/Users/asgatakmaev/miniconda3/envs/recsys/lib/python3.11/site-packages/tqdm/auto.py:21: TqdmWarning: IProgress not found. Please update jupyter and ipywidgets. See https://ipywidgets.readthedocs.io/en/stable/user_install.html\n",
      "  from .autonotebook import tqdm as notebook_tqdm\n"
     ]
    },
    {
     "data": {
      "text/html": [
       "<div>\n",
       "<style scoped>\n",
       "    .dataframe tbody tr th:only-of-type {\n",
       "        vertical-align: middle;\n",
       "    }\n",
       "\n",
       "    .dataframe tbody tr th {\n",
       "        vertical-align: top;\n",
       "    }\n",
       "\n",
       "    .dataframe thead th {\n",
       "        text-align: right;\n",
       "    }\n",
       "</style>\n",
       "<table border=\"1\" class=\"dataframe\">\n",
       "  <thead>\n",
       "    <tr style=\"text-align: right;\">\n",
       "      <th></th>\n",
       "      <th>category_id</th>\n",
       "      <th>published_date</th>\n",
       "      <th>price</th>\n",
       "      <th>update_stat_date</th>\n",
       "      <th>refreshed_date</th>\n",
       "      <th>view_count</th>\n",
       "      <th>is_sticky</th>\n",
       "      <th>item_origin</th>\n",
       "      <th>extended_guarantee</th>\n",
       "      <th>nsb</th>\n",
       "      <th>...</th>\n",
       "      <th>steam_cs2_ban_type</th>\n",
       "      <th>steam_rust_kill_player</th>\n",
       "      <th>steam_rust_deaths</th>\n",
       "      <th>steam_total_gifts_rub</th>\n",
       "      <th>steam_total_refunds_rub</th>\n",
       "      <th>steam_total_ingame_rub</th>\n",
       "      <th>steam_total_games_rub</th>\n",
       "      <th>steam_total_purchased_rub</th>\n",
       "      <th>steam_dota2_last_match_date</th>\n",
       "      <th>sold_price</th>\n",
       "    </tr>\n",
       "  </thead>\n",
       "  <tbody>\n",
       "    <tr>\n",
       "      <th>0</th>\n",
       "      <td>1</td>\n",
       "      <td>1695058353</td>\n",
       "      <td>360</td>\n",
       "      <td>1695227440</td>\n",
       "      <td>1695058353</td>\n",
       "      <td>9</td>\n",
       "      <td>0</td>\n",
       "      <td>fishing</td>\n",
       "      <td>-1</td>\n",
       "      <td>1</td>\n",
       "      <td>...</td>\n",
       "      <td>0</td>\n",
       "      <td>0</td>\n",
       "      <td>0</td>\n",
       "      <td>0</td>\n",
       "      <td>0</td>\n",
       "      <td>0</td>\n",
       "      <td>0</td>\n",
       "      <td>0</td>\n",
       "      <td>0</td>\n",
       "      <td>360</td>\n",
       "    </tr>\n",
       "    <tr>\n",
       "      <th>1</th>\n",
       "      <td>1</td>\n",
       "      <td>1689775707</td>\n",
       "      <td>115</td>\n",
       "      <td>0</td>\n",
       "      <td>1689775707</td>\n",
       "      <td>8</td>\n",
       "      <td>0</td>\n",
       "      <td>brute</td>\n",
       "      <td>0</td>\n",
       "      <td>1</td>\n",
       "      <td>...</td>\n",
       "      <td>0</td>\n",
       "      <td>0</td>\n",
       "      <td>0</td>\n",
       "      <td>0</td>\n",
       "      <td>0</td>\n",
       "      <td>0</td>\n",
       "      <td>0</td>\n",
       "      <td>0</td>\n",
       "      <td>0</td>\n",
       "      <td>115</td>\n",
       "    </tr>\n",
       "    <tr>\n",
       "      <th>2</th>\n",
       "      <td>1</td>\n",
       "      <td>1694338912</td>\n",
       "      <td>145</td>\n",
       "      <td>0</td>\n",
       "      <td>1695842027</td>\n",
       "      <td>71</td>\n",
       "      <td>0</td>\n",
       "      <td>autoreg</td>\n",
       "      <td>1</td>\n",
       "      <td>1</td>\n",
       "      <td>...</td>\n",
       "      <td>0</td>\n",
       "      <td>0</td>\n",
       "      <td>0</td>\n",
       "      <td>0</td>\n",
       "      <td>0</td>\n",
       "      <td>0</td>\n",
       "      <td>0</td>\n",
       "      <td>0</td>\n",
       "      <td>0</td>\n",
       "      <td>145</td>\n",
       "    </tr>\n",
       "    <tr>\n",
       "      <th>3</th>\n",
       "      <td>1</td>\n",
       "      <td>1694791149</td>\n",
       "      <td>649</td>\n",
       "      <td>0</td>\n",
       "      <td>1694791149</td>\n",
       "      <td>59</td>\n",
       "      <td>0</td>\n",
       "      <td>resale</td>\n",
       "      <td>0</td>\n",
       "      <td>0</td>\n",
       "      <td>...</td>\n",
       "      <td>0</td>\n",
       "      <td>0</td>\n",
       "      <td>0</td>\n",
       "      <td>0</td>\n",
       "      <td>0</td>\n",
       "      <td>0</td>\n",
       "      <td>0</td>\n",
       "      <td>0</td>\n",
       "      <td>0</td>\n",
       "      <td>649</td>\n",
       "    </tr>\n",
       "    <tr>\n",
       "      <th>4</th>\n",
       "      <td>1</td>\n",
       "      <td>1695738971</td>\n",
       "      <td>40</td>\n",
       "      <td>1695847124</td>\n",
       "      <td>1695738971</td>\n",
       "      <td>10</td>\n",
       "      <td>0</td>\n",
       "      <td>brute</td>\n",
       "      <td>0</td>\n",
       "      <td>1</td>\n",
       "      <td>...</td>\n",
       "      <td>0</td>\n",
       "      <td>0</td>\n",
       "      <td>0</td>\n",
       "      <td>0</td>\n",
       "      <td>0</td>\n",
       "      <td>0</td>\n",
       "      <td>0</td>\n",
       "      <td>0</td>\n",
       "      <td>0</td>\n",
       "      <td>40</td>\n",
       "    </tr>\n",
       "  </tbody>\n",
       "</table>\n",
       "<p>5 rows × 73 columns</p>\n",
       "</div>"
      ],
      "text/plain": [
       "   category_id  published_date  price  update_stat_date  refreshed_date  \\\n",
       "0            1      1695058353    360        1695227440      1695058353   \n",
       "1            1      1689775707    115                 0      1689775707   \n",
       "2            1      1694338912    145                 0      1695842027   \n",
       "3            1      1694791149    649                 0      1694791149   \n",
       "4            1      1695738971     40        1695847124      1695738971   \n",
       "\n",
       "   view_count  is_sticky item_origin  extended_guarantee  nsb  ...  \\\n",
       "0           9          0     fishing                  -1    1  ...   \n",
       "1           8          0       brute                   0    1  ...   \n",
       "2          71          0     autoreg                   1    1  ...   \n",
       "3          59          0      resale                   0    0  ...   \n",
       "4          10          0       brute                   0    1  ...   \n",
       "\n",
       "  steam_cs2_ban_type steam_rust_kill_player steam_rust_deaths  \\\n",
       "0                  0                      0                 0   \n",
       "1                  0                      0                 0   \n",
       "2                  0                      0                 0   \n",
       "3                  0                      0                 0   \n",
       "4                  0                      0                 0   \n",
       "\n",
       "   steam_total_gifts_rub steam_total_refunds_rub  steam_total_ingame_rub  \\\n",
       "0                      0                       0                       0   \n",
       "1                      0                       0                       0   \n",
       "2                      0                       0                       0   \n",
       "3                      0                       0                       0   \n",
       "4                      0                       0                       0   \n",
       "\n",
       "   steam_total_games_rub steam_total_purchased_rub  \\\n",
       "0                      0                         0   \n",
       "1                      0                         0   \n",
       "2                      0                         0   \n",
       "3                      0                         0   \n",
       "4                      0                         0   \n",
       "\n",
       "   steam_dota2_last_match_date sold_price  \n",
       "0                            0        360  \n",
       "1                            0        115  \n",
       "2                            0        145  \n",
       "3                            0        649  \n",
       "4                            0         40  \n",
       "\n",
       "[5 rows x 73 columns]"
      ]
     },
     "execution_count": 1,
     "metadata": {},
     "output_type": "execute_result"
    }
   ],
   "source": [
    "import pandas as pd\n",
    "import numpy as np\n",
    "from tqdm.auto import tqdm\n",
    "import warnings\n",
    "from sklearn.model_selection import train_test_split\n",
    "\n",
    "warnings.filterwarnings('ignore')\n",
    "\n",
    "# Use True if you dont have your own data\n",
    "USE_DEMO_DATA = True\n",
    "\n",
    "# Specify if you have your own data\n",
    "TRAIN_DATA_PATH = 'YOUR_TRAIN_DATA_PATH'\n",
    "TEST_DATA_PATH = 'YOUR_TEST_DATA_PATH'\n",
    "\n",
    "if USE_DEMO_DATA:\n",
    "    # making demo data for 2 categories\n",
    "    df = pd.read_json('../data/dataset.json')\n",
    "    cat_2_df = df.copy()\n",
    "    cat_2_df['category_id'] = 2\n",
    "    train_1, test_1 = train_test_split(df, shuffle=True, random_state=42, test_size=0.078)\n",
    "    train_2, test_2 = train_test_split(cat_2_df, shuffle=True, random_state=42, test_size=0.078)\n",
    "    \n",
    "    train_df = pd.concat([train_1, train_2]).reset_index(drop=True)\n",
    "    test_df = pd.concat([test_1, test_2]).reset_index(drop=True)\n",
    "else:\n",
    "    # reading your data\n",
    "    train_df = pd.read_json(TRAIN_DATA_PATH)\n",
    "    test_df = pd.read_json(TEST_DATA_PATH)\n",
    "    \n",
    "train_df.head()"
   ]
  },
  {
   "cell_type": "code",
   "execution_count": 2,
   "metadata": {},
   "outputs": [
    {
     "name": "stdout",
     "output_type": "stream",
     "text": [
      "[1 2]\n"
     ]
    }
   ],
   "source": [
    "unique_categories = train_df['category_id'].unique()\n",
    "\n",
    "print(unique_categories)"
   ]
  },
  {
   "cell_type": "markdown",
   "metadata": {},
   "source": [
    "#### Splitting data into separate catogories by category_id"
   ]
  },
  {
   "cell_type": "code",
   "execution_count": 3,
   "metadata": {},
   "outputs": [
    {
     "name": "stderr",
     "output_type": "stream",
     "text": [
      "100%|██████████| 2/2 [00:00<00:00, 11.60it/s]\n"
     ]
    },
    {
     "data": {
      "text/plain": [
       "dict_keys([1, 2])"
      ]
     },
     "execution_count": 3,
     "metadata": {},
     "output_type": "execute_result"
    }
   ],
   "source": [
    "categories_dfs = {}\n",
    "\n",
    "for category in tqdm(unique_categories):\n",
    "    category_df = train_df[train_df['category_id'] == category].copy()\n",
    "    categories_dfs[category] = category_df\n",
    "    \n",
    "categories_dfs.keys()"
   ]
  },
  {
   "cell_type": "markdown",
   "metadata": {},
   "source": [
    "## Training models for each category"
   ]
  },
  {
   "cell_type": "code",
   "execution_count": 4,
   "metadata": {},
   "outputs": [
    {
     "name": "stdout",
     "output_type": "stream",
     "text": [
      "Training model for category 1\n",
      "\n",
      "Initialized SingleCategoryModel for category 1.\n",
      "TRAINING FOLD 1 of 3 total.\n",
      "\n",
      "TRAINING FOLD 2 of 3 total.\n",
      "\n",
      "TRAINING FOLD 3 of 3 total.\n",
      "\n",
      "Training complete.\n",
      "Training model for category 2\n",
      "\n",
      "Initialized SingleCategoryModel for category 2.\n",
      "TRAINING FOLD 1 of 3 total.\n",
      "\n",
      "TRAINING FOLD 2 of 3 total.\n",
      "\n",
      "TRAINING FOLD 3 of 3 total.\n",
      "\n",
      "Training complete.\n"
     ]
    }
   ],
   "source": [
    "from single_cat_model import SingleCategoryModel\n",
    "\n",
    "categories_models = {}\n",
    "\n",
    "for category in unique_categories:\n",
    "    print(\"Training model for category\", category, end='\\n\\n')\n",
    "    model = SingleCategoryModel(category_number=category)\n",
    "    \n",
    "    model.train(categories_dfs[category])\n",
    "    \n",
    "    categories_models[category] = model"
   ]
  },
  {
   "cell_type": "markdown",
   "metadata": {},
   "source": [
    "### Saving models to ONNX and CBM format"
   ]
  },
  {
   "cell_type": "code",
   "execution_count": 5,
   "metadata": {},
   "outputs": [
    {
     "data": {
      "text/plain": [
       "{1: <single_cat_model.SingleCategoryModel at 0x16b078410>,\n",
       " 2: <single_cat_model.SingleCategoryModel at 0x177cf5bd0>}"
      ]
     },
     "execution_count": 5,
     "metadata": {},
     "output_type": "execute_result"
    }
   ],
   "source": [
    "categories_models"
   ]
  },
  {
   "cell_type": "code",
   "execution_count": 6,
   "metadata": {},
   "outputs": [
    {
     "name": "stdout",
     "output_type": "stream",
     "text": [
      "Model exported to ./models/onnx/category_1_model.onnx\n",
      "Model exported to ./models/onnx/category_2_model.onnx\n"
     ]
    }
   ],
   "source": [
    "for category in categories_models.keys():\n",
    "    categories_models[category].export(output_path_onnx=f'./models/onnx/category_{category}_model.onnx')"
   ]
  },
  {
   "cell_type": "markdown",
   "metadata": {},
   "source": [
    "## Validating model for each category"
   ]
  },
  {
   "cell_type": "markdown",
   "metadata": {},
   "source": [
    "### Loading available models and validating on test data"
   ]
  },
  {
   "cell_type": "code",
   "execution_count": 7,
   "metadata": {},
   "outputs": [
    {
     "name": "stdout",
     "output_type": "stream",
     "text": [
      "Initialized SingleCategoryModel for category 1.\n",
      "Loaded the model from ./models/onnx/category_1_model.onnx\n",
      "\n",
      "Regression Metrics:\n",
      "\n",
      "Mean Absolute Error (MAE): 28.9945\n",
      "Mean Squared Error (MSE): 204498.9485\n",
      "Root Mean Squared Error (RMSE): 452.2156\n",
      "R² Score: 0.8733\n",
      "Pearson Correlation (Full Dataset): 0.9457\n",
      "Pearson Correlation (Sample Size 100): 0.9978\n",
      "Pearson Correlation (Sample Size 1000): 0.9971\n",
      "Pearson Correlation (Sample Size 10000): 0.9472\n",
      "Pearson correlation plot saved to ./validation_plots/cat_1_pearson.png\n",
      "\n",
      "\n",
      "Initialized SingleCategoryModel for category 2.\n",
      "Loaded the model from ./models/onnx/category_2_model.onnx\n",
      "\n",
      "Regression Metrics:\n",
      "\n",
      "Mean Absolute Error (MAE): 28.9945\n",
      "Mean Squared Error (MSE): 204498.9485\n",
      "Root Mean Squared Error (RMSE): 452.2156\n",
      "R² Score: 0.8733\n",
      "Pearson Correlation (Full Dataset): 0.9457\n",
      "Pearson Correlation (Sample Size 100): 0.9997\n",
      "Pearson Correlation (Sample Size 1000): 0.9754\n",
      "Pearson Correlation (Sample Size 10000): 0.9457\n",
      "Pearson correlation plot saved to ./validation_plots/cat_2_pearson.png\n",
      "\n",
      "\n"
     ]
    }
   ],
   "source": [
    "from single_cat_model import SingleCategoryModel\n",
    "import pandas as pd\n",
    "import numpy as np\n",
    "\n",
    "# categries you saved your models for\n",
    "categories = [1, 2]\n",
    "\n",
    "test_categories_dfs = {}\n",
    "\n",
    "# splitting test set to separate categories\n",
    "for category in categories:\n",
    "    test_categories_dfs[category] = test_df[test_df['category_id'] == category]\n",
    "    \n",
    "metrics_dict = {}\n",
    "\n",
    "for category in categories:\n",
    "    \n",
    "    # initializing empty model\n",
    "    model = SingleCategoryModel(category_number=category)\n",
    "    # loading saved weights\n",
    "    model.load_model(f'./models/onnx/category_{category}_model.onnx') # using path to CBM format!\n",
    "    # validating on test set\n",
    "    metrics = model.validate(\n",
    "        valid_df=test_categories_dfs[category], \n",
    "        save_plot_path=f'./validation_plots/cat_{category}_pearson.png'\n",
    "    )\n",
    "    \n",
    "    # saving metrics\n",
    "    metrics_dict[category] = metrics\n",
    "    \n",
    "    print('\\n')"
   ]
  },
  {
   "cell_type": "code",
   "execution_count": 8,
   "metadata": {},
   "outputs": [
    {
     "data": {
      "text/plain": [
       "{1: {'mae': 28.99447410787435,\n",
       "  'mse': 204498.94854526053,\n",
       "  'rmse': 452.2155996261745,\n",
       "  'r2': 0.8732726429267379,\n",
       "  'pearson_correlation_full': 0.9456589207734637,\n",
       "  'sample_pearsons': {100: 0.9977960280686196,\n",
       "   1000: 0.9970809992728634,\n",
       "   10000: 0.94717873166855}},\n",
       " 2: {'mae': 28.99447410787435,\n",
       "  'mse': 204498.94854526053,\n",
       "  'rmse': 452.2155996261745,\n",
       "  'r2': 0.8732726429267379,\n",
       "  'pearson_correlation_full': 0.9456589207734637,\n",
       "  'sample_pearsons': {100: 0.9996690478731373,\n",
       "   1000: 0.9753941201798361,\n",
       "   10000: 0.9456995750516152}}}"
      ]
     },
     "execution_count": 8,
     "metadata": {},
     "output_type": "execute_result"
    }
   ],
   "source": [
    "metrics_dict"
   ]
  },
  {
   "cell_type": "markdown",
   "metadata": {},
   "source": [
    "## Finetuning example"
   ]
  },
  {
   "cell_type": "code",
   "execution_count": 10,
   "metadata": {},
   "outputs": [
    {
     "name": "stdout",
     "output_type": "stream",
     "text": [
      "An error occurred during finetuning: /Users/zomb-ml-platform-msk/go-agent-21.2.0/pipelines/BuildMaster/catboost.git/catboost/libs/model/model.cpp:1885: Summation of symmetric and non-symmetric models is not supported [for now]\n",
      "\n",
      "Regression Metrics:\n",
      "\n",
      "Mean Absolute Error (MAE): 28.9945\n",
      "Mean Squared Error (MSE): 204498.9485\n",
      "Root Mean Squared Error (RMSE): 452.2156\n",
      "R² Score: 0.8733\n",
      "Pearson Correlation (Full Dataset): 0.9457\n",
      "Pearson Correlation (Sample Size 100): 0.9985\n",
      "Pearson Correlation (Sample Size 1000): 0.9663\n",
      "Pearson Correlation (Sample Size 10000): 0.9456\n",
      "Pearson correlation plot saved to pearson_vs_samples.png\n",
      "{'mae': 28.99447410787435, 'mse': 204498.94854526053, 'rmse': 452.2155996261745, 'r2': 0.8732726429267379, 'pearson_correlation_full': 0.9456589207734637, 'sample_pearsons': {100: 0.9985431313400233, 1000: 0.9662619919939525, 10000: 0.9456029638909101}}\n"
     ]
    }
   ],
   "source": [
    "model.finetune(test_1)\n",
    "\n",
    "metrics = model.validate(test_1)\n",
    "\n",
    "print(metrics)"
   ]
  },
  {
   "cell_type": "code",
   "execution_count": null,
   "metadata": {},
   "outputs": [],
   "source": []
  }
 ],
 "metadata": {
  "kernelspec": {
   "display_name": "recsys",
   "language": "python",
   "name": "python3"
  },
  "language_info": {
   "codemirror_mode": {
    "name": "ipython",
    "version": 3
   },
   "file_extension": ".py",
   "mimetype": "text/x-python",
   "name": "python",
   "nbconvert_exporter": "python",
   "pygments_lexer": "ipython3",
   "version": "3.11.10"
  }
 },
 "nbformat": 4,
 "nbformat_minor": 2
}
